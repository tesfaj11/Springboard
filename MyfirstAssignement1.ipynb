{
 "cells": [
  {
   "cell_type": "code",
   "execution_count": null,
   "id": "8736b99e-0cbc-48c5-bf57-151e329d6c9a",
   "metadata": {},
   "outputs": [],
   "source": []
  }
 ],
 "metadata": {
  "kernelspec": {
   "display_name": "",
   "name": ""
  },
  "language_info": {
   "name": ""
  }
 },
 "nbformat": 4,
 "nbformat_minor": 5
}
